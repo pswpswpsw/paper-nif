{
 "cells": [
  {
   "cell_type": "code",
   "execution_count": 2,
   "metadata": {},
   "outputs": [
    {
     "name": "stdout",
     "output_type": "stream",
     "text": [
      "WARNING:tensorflow:From /home/shaowu/.local/lib/python3.6/site-packages/tensorflow/python/compat/v2_compat.py:101: disable_resource_variables (from tensorflow.python.ops.variable_scope) is deprecated and will be removed in a future version.\n",
      "Instructions for updating:\n",
      "non-resource variables are not supported in the long term\n"
     ]
    }
   ],
   "source": [
    "import numpy as np\n",
    "from matplotlib import pyplot as plt\n",
    "import pandas as pd\n",
    "import tensorflow.compat.v1 as tf\n",
    "tf.disable_v2_behavior()\n",
    "import sys\n",
    "import os "
   ]
  },
  {
   "cell_type": "markdown",
   "metadata": {},
   "source": [
    "## Load data"
   ]
  },
  {
   "cell_type": "code",
   "execution_count": 3,
   "metadata": {},
   "outputs": [],
   "source": [
    "D_PATH = './DATA/2dhit-txy-128-20-uvw.npz'\n",
    "\n",
    "N_SNAP = 20\n",
    "DIM_X, DIM_Y = 128, 128\n",
    "\n",
    "TRAIN_DATA= np.load(D_PATH)['data'][:N_SNAP*DIM_X*DIM_Y,:]\n",
    "std_tr = np.load(D_PATH)['std']\n",
    "mean_tr = np.load(D_PATH)['mean']\n",
    "\n",
    "# only take first snapshot\n",
    "batch_t = TRAIN_DATA[:N_SNAP*DIM_X**2,0].reshape(-1,1)\n",
    "batch_x = TRAIN_DATA[:N_SNAP*DIM_X**2,1].reshape(-1,1)\n",
    "batch_y = TRAIN_DATA[:N_SNAP*DIM_X**2,2].reshape(-1,1)\n",
    "u_true = TRAIN_DATA[:N_SNAP*DIM_X**2,3].reshape(N_SNAP,DIM_X,DIM_X)"
   ]
  },
  {
   "cell_type": "code",
   "execution_count": 4,
   "metadata": {},
   "outputs": [],
   "source": [
    "model_list_36 = [\n",
    "    'MLP_TANH/HIT_MLP_SIREN_NSNAP_20_NSX_36_OMEGA_30.0_LSX_4_BS_120000',\n",
    "    'MLP_RELU/HIT_MLP_SIREN_NSNAP_20_NSX_36_OMEGA_30.0_LSX_4_BS_120000',\n",
    "    'MLP_FF/HIT_MLP_FF__N_FF_256_SIGMA_FF_1.0_NSNAP_20_NSX_36_LSX_4_BS_120000',\n",
    "    'MLP_FF/HIT_MLP_FF__N_FF_256_SIGMA_FF_10.0_NSNAP_20_NSX_36_LSX_4_BS_120000',\n",
    "    'MLP_FF/HIT_MLP_FF__N_FF_256_SIGMA_FF_100.0_NSNAP_20_NSX_36_LSX_4_BS_120000',\n",
    "    'MLP/HIT_MLP_SIREN_NSNAP_20_NSX_36_OMEGA_30.0_LSX_4_BS_120000',\n",
    "    'NIF/HIT_NIF_SIREN_NSNAP_20_NSX_36_OMEGA_30.0_LSX_4_NST_50_LST_2_NP_10_BS_20000'\n",
    "]\n",
    "\n",
    "\n",
    "model_list_75 = [\n",
    "    'MLP_TANH/HIT_MLP_SIREN_NSNAP_20_NSX_75_OMEGA_30.0_LSX_4_BS_120000',\n",
    "    'MLP_RELU/HIT_MLP_SIREN_NSNAP_20_NSX_75_OMEGA_30.0_LSX_4_BS_120000',\n",
    "    'MLP_FF/HIT_MLP_FF__N_FF_256_SIGMA_FF_1.0_NSNAP_20_NSX_75_LSX_4_BS_120000',\n",
    "    'MLP_FF/HIT_MLP_FF__N_FF_256_SIGMA_FF_10.0_NSNAP_20_NSX_75_LSX_4_BS_120000',\n",
    "    'MLP_FF/HIT_MLP_FF__N_FF_256_SIGMA_FF_100.0_NSNAP_20_NSX_75_LSX_4_BS_120000',\n",
    "    'MLP/HIT_MLP_SIREN_NSNAP_20_NSX_75_OMEGA_30.0_LSX_4_BS_120000',\n",
    "    'NIF/HIT_NIF_SIREN_NSNAP_20_NSX_75_OMEGA_30.0_LSX_4_NST_50_LST_2_NP_10_BS_5000'\n",
    "]\n",
    "\n",
    "model_list_150 = [\n",
    "    'MLP_TANH/HIT_MLP_SIREN_NSNAP_20_NSX_150_OMEGA_30.0_LSX_4_BS_120000',\n",
    "    'MLP_RELU/HIT_MLP_SIREN_NSNAP_20_NSX_150_OMEGA_30.0_LSX_4_BS_120000',\n",
    "    'MLP_FF/HIT_MLP_FF__N_FF_256_SIGMA_FF_1.0_NSNAP_20_NSX_150_LSX_4_BS_120000',\n",
    "    'MLP_FF/HIT_MLP_FF__N_FF_256_SIGMA_FF_10.0_NSNAP_20_NSX_150_LSX_4_BS_120000',\n",
    "    'MLP_FF/HIT_MLP_FF__N_FF_256_SIGMA_FF_100.0_NSNAP_20_NSX_150_LSX_4_BS_120000',\n",
    "    'MLP/HIT_MLP_SIREN_NSNAP_20_NSX_150_OMEGA_30.0_LSX_4_BS_120000',\n",
    "    'NIF/HIT_NIF_SIREN_NSNAP_20_NSX_150_OMEGA_30.0_LSX_4_NST_50_LST_2_NP_10_BS_1400'\n",
    "]\n",
    "\n",
    "model_str_list = [\n",
    "    'MLP (tanh)',\n",
    "    'MLP (relu)',\n",
    "    'Fourier Feature NN' + \"\\n\" + r'($\\sigma=1$, relu)',\n",
    "    'Fourier Feature NN' + \"\\n\" + r'($\\sigma=10$, relu)',\n",
    "    'Fourier Feature NN' + \"\\n\" + r'($\\sigma=100$, relu)',\n",
    "    'SIREN',\n",
    "    'NIF'\n",
    "]"
   ]
  },
  {
   "cell_type": "markdown",
   "metadata": {},
   "source": [
    "## read data"
   ]
  },
  {
   "cell_type": "code",
   "execution_count": 5,
   "metadata": {},
   "outputs": [],
   "source": [
    "def read(modelpath):\n",
    "    path = './compare_2d_with_variants/' + modelpath + '/saved_model_ckpt_100000'\n",
    "    if not os.path.exists(path):\n",
    "        path = './compare_2d_with_variants/' + modelpath + '/saved_model_ckpt_500'\n",
    "    tmp = np.load(path+'/pred.npz')\n",
    "    return tmp['u_pred']"
   ]
  },
  {
   "cell_type": "markdown",
   "metadata": {},
   "source": [
    "## width 36"
   ]
  },
  {
   "cell_type": "code",
   "execution_count": 6,
   "metadata": {},
   "outputs": [],
   "source": [
    "u_pred_36_list = []\n",
    "for modelpath in model_list_36:\n",
    "    u_pred = read(modelpath)\n",
    "    u_pred_36_list.append(u_pred)\n",
    "    \n",
    "u_pred_36_list.append(u_true)\n",
    "model_str_list.append('True')"
   ]
  },
  {
   "cell_type": "markdown",
   "metadata": {},
   "source": [
    "## width 75"
   ]
  },
  {
   "cell_type": "code",
   "execution_count": 7,
   "metadata": {},
   "outputs": [],
   "source": [
    "u_pred_75_list = []\n",
    "for modelpath in model_list_75:\n",
    "    u_pred = read(modelpath)\n",
    "    u_pred_75_list.append(u_pred)\n",
    "    \n",
    "u_pred_75_list.append(u_true)"
   ]
  },
  {
   "cell_type": "markdown",
   "metadata": {},
   "source": [
    "## width 150"
   ]
  },
  {
   "cell_type": "code",
   "execution_count": 8,
   "metadata": {},
   "outputs": [],
   "source": [
    "u_pred_150_list = []\n",
    "for modelpath in model_list_150:\n",
    "    u_pred = read(modelpath)\n",
    "    u_pred_150_list.append(u_pred)\n",
    "    \n",
    "u_pred_150_list.append(u_true)"
   ]
  },
  {
   "cell_type": "markdown",
   "metadata": {},
   "source": [
    "## compute error"
   ]
  },
  {
   "cell_type": "code",
   "execution_count": 28,
   "metadata": {},
   "outputs": [],
   "source": [
    "import pandas as pd"
   ]
  },
  {
   "cell_type": "code",
   "execution_count": 48,
   "metadata": {},
   "outputs": [],
   "source": [
    "err_36_list = []\n",
    "for i in range(len(u_pred_36_list)-1):\n",
    "    a = np.linalg.norm(u_pred_36_list[i]-u_pred_36_list[-1])/ np.linalg.norm(u_pred_36_list[-1])\n",
    "    err_36_list.append(a)\n",
    "err_75_list = []\n",
    "for i in range(len(u_pred_75_list)-1):\n",
    "    a = np.linalg.norm(u_pred_75_list[i]-u_pred_75_list[-1])/ np.linalg.norm(u_pred_36_list[-1])\n",
    "    err_75_list.append(a)\n",
    "err_150_list = []\n",
    "for i in range(len(u_pred_150_list)-1):\n",
    "    a = np.linalg.norm(u_pred_150_list[i]-u_pred_150_list[-1])/ np.linalg.norm(u_pred_36_list[-1])\n",
    "    err_150_list.append(a)\n",
    "err = np.vstack([err_36_list, err_75_list, err_150_list])"
   ]
  },
  {
   "cell_type": "code",
   "execution_count": 53,
   "metadata": {},
   "outputs": [],
   "source": [
    "df = pd.DataFrame(err, index=['width=36', 'width=75','width=150'],columns=model_str_list[:-1])"
   ]
  },
  {
   "cell_type": "code",
   "execution_count": 55,
   "metadata": {},
   "outputs": [
    {
     "data": {
      "text/plain": [
       "'\\\\begin{tabular}{lrrrrrrr}\\n\\\\toprule\\n{} &  MLP (tanh) &  MLP (relu) &  Fourier Feature NN\\\\textbackslash n(\\\\$\\\\textbackslash sigma=1\\\\$, relu) &  Fourier Feature NN\\\\textbackslash n(\\\\$\\\\textbackslash sigma=10\\\\$, relu) &  Fourier Feature NN\\\\textbackslash n(\\\\$\\\\textbackslash sigma=100\\\\$, relu) &     SIREN &       NIF \\\\\\\\\\n\\\\midrule\\nwidth=36  &    0.356886 &    0.195962 &                                0.390604 &                                 0.264704 &                                  0.262562 &  0.121444 &  0.070941 \\\\\\\\\\nwidth=75  &    0.289948 &    0.171981 &                                0.361140 &                                 0.260149 &                                  0.241287 &  0.039191 &  0.022485 \\\\\\\\\\nwidth=150 &    0.236278 &    0.144220 &                                0.353076 &                                 0.285246 &                                  0.247678 &  0.011648 &  0.013179 \\\\\\\\\\n\\\\bottomrule\\n\\\\end{tabular}\\n'"
      ]
     },
     "execution_count": 55,
     "metadata": {},
     "output_type": "execute_result"
    }
   ],
   "source": [
    "df.to_latex()"
   ]
  },
  {
   "cell_type": "code",
   "execution_count": null,
   "metadata": {},
   "outputs": [],
   "source": []
  },
  {
   "cell_type": "code",
   "execution_count": null,
   "metadata": {},
   "outputs": [],
   "source": []
  },
  {
   "cell_type": "markdown",
   "metadata": {},
   "source": [
    "## plot and compare"
   ]
  },
  {
   "cell_type": "code",
   "execution_count": 22,
   "metadata": {},
   "outputs": [
    {
     "data": {
      "image/png": "[encoded data removed]",
      "text/plain": [
       "<Figure size 432x288 with 1 Axes>"
      ]
     },
     "metadata": {
      "needs_background": "light"
     },
     "output_type": "display_data"
    }
   ],
   "source": [
    "plt.tick_params(\n",
    "    axis='x',          # changes apply to the x-axis\n",
    "    which='both',      # both major and minor ticks are affected\n",
    "    bottom=False,      # ticks along the bottom edge are off\n",
    "    top=False,         # ticks along the top edge are off\n",
    "    labelbottom=False)\n",
    "plt.tick_params(\n",
    "    axis='y',          # changes apply to the x-axis\n",
    "    which='both',      # both major and minor ticks are affected\n",
    "    bottom=False,      # ticks along the bottom edge are off\n",
    "    top=False,         # ticks along the top edge are off\n",
    "    labelbottom=False)\n",
    "def savefig(i_time):\n",
    "    fig,axs=plt.subplots(1*3,8,figsize=(25,3*3))\n",
    "    # i_time = 19\n",
    "    # 36\n",
    "    for i, ax in enumerate(axs[0]):\n",
    "        ax.contourf(u_pred_36_list[i][i_time],levels=100,cmap='twilight')\n",
    "        # ax.axis('off')\n",
    "        ax.set_title(model_str_list[i],fontsize=22)\n",
    "        \n",
    "        if i == 0:\n",
    "            ax.set_ylabel('width = 36',fontsize=22)\n",
    "        ax.tick_params(axis=u'both', which=u'both',length=0)\n",
    "        ax.set_xticks([]) \n",
    "        ax.set_yticks([]) \n",
    "    \n",
    "    # 75\n",
    "    for i, ax in enumerate(axs[1]):\n",
    "        ax.contourf(u_pred_75_list[i][i_time],levels=100,cmap='twilight')\n",
    "        # ax.axis('off')\n",
    "        if i == 0:\n",
    "            ax.set_ylabel('width = 75',fontsize=22)\n",
    "        ax.tick_params(axis=u'both', which=u'both',length=0)\n",
    "        \n",
    "        # ax.set_title(model_str_list[i],fontsize=15)\n",
    "        ax.set_xticks([]) \n",
    "        ax.set_yticks([]) \n",
    "    \n",
    "    # 150\n",
    "    for i, ax in enumerate(axs[2]):\n",
    "        ax.contourf(u_pred_150_list[i][i_time],levels=100,cmap='twilight')\n",
    "        # ax.axis('off')\n",
    "        if i == 0:\n",
    "            ax.set_ylabel('width = 150',fontsize=22)\n",
    "        ax.tick_params(axis=u'both', which=u'both',length=0)\n",
    "        ax.set_xticks([]) \n",
    "        ax.set_yticks([]) \n",
    "        \n",
    "    fig.tight_layout()\n",
    "    # fig.layout('tight')\n",
    "    plt.savefig('png/'+str(i_time)+'.png',bbox_inches='tight',transparent=False,facecolor='w')\n",
    "\n",
    "    plt.close()\n",
    "    \n",
    "for i in range(20):\n",
    "    savefig(i)"
   ]
  }
 ],
 "metadata": {
  "kernelspec": {
   "display_name": "py3",
   "language": "python",
   "name": "py3"
  },
  "language_info": {
   "codemirror_mode": {
    "name": "ipython",
    "version": 3
   },
   "file_extension": ".py",
   "mimetype": "text/x-python",
   "name": "python",
   "nbconvert_exporter": "python",
   "pygments_lexer": "ipython3",
   "version": "3.6.8"
  }
 },
 "nbformat": 4,
 "nbformat_minor": 4
}
