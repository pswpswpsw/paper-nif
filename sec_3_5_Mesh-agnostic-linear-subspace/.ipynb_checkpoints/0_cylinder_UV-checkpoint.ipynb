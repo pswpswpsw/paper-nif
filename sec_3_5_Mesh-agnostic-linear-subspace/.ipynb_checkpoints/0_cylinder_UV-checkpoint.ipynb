{
 "cells": [
  {
   "cell_type": "code",
   "execution_count": 1,
   "metadata": {},
   "outputs": [],
   "source": [
    "import numpy as np\n",
    "from matplotlib import pyplot as plt\n",
    "import pandas as pd\n",
    "import tensorflow as tf"
   ]
  },
  {
   "cell_type": "code",
   "execution_count": 2,
   "metadata": {},
   "outputs": [],
   "source": [
    "plt.style.use('siads')"
   ]
  },
  {
   "cell_type": "markdown",
   "metadata": {},
   "source": [
    "## 1. Compare reconstruction"
   ]
  },
  {
   "cell_type": "markdown",
   "metadata": {},
   "source": [
    "## 1. load training data"
   ]
  },
  {
   "cell_type": "code",
   "execution_count": 3,
   "metadata": {},
   "outputs": [
    {
     "name": "stdout",
     "output_type": "stream",
     "text": [
      "cylinder_uv_siren_n_eco.npz  \u001b[0m\u001b[01;34mresult\u001b[0m/\r\n"
     ]
    }
   ],
   "source": [
    "%ls cylinder_UV"
   ]
  },
  {
   "cell_type": "code",
   "execution_count": 4,
   "metadata": {},
   "outputs": [],
   "source": [
    "FILENAME = './cylinder_UV/cylinder_uv_siren_n_eco.npz'\n",
    "# FILENAME = 'cylinder_n.npz'\n",
    "\n",
    "data=np.load(FILENAME)['data']\n",
    "mean = np.load(FILENAME)['mean']\n",
    "std = np.load(FILENAME)['std']\n",
    "data_raw = data \n",
    "\n",
    "arr=np.diff(data_raw[:,0])>0\n",
    "index_max_list=np.where(arr==1)[0]"
   ]
  },
  {
   "cell_type": "markdown",
   "metadata": {},
   "source": [
    "## 2. load models"
   ]
  },
  {
   "cell_type": "code",
   "execution_count": 6,
   "metadata": {},
   "outputs": [
    {
     "name": "stdout",
     "output_type": "stream",
     "text": [
      "\u001b[0m\u001b[01;34mNIF_MLP_RANK_20\u001b[0m/  \u001b[01;34mNIF_MLP_RANK_30\u001b[0m/  \u001b[01;34mNIF_SIREN_RANK_20\u001b[0m/  \u001b[01;34mNIF_SIREN_RANK_30\u001b[0m/\r\n"
     ]
    }
   ],
   "source": [
    "# MODEL_NAME = 'NIF_MLP_RANK_30'\n",
    "MODEL_NAME = 'NIF_MLP_RANK_20'\n",
    "# MODEL_NAME = 'NIF_SIREN_RANK_30'\n",
    "# MODEL_NAME = 'NIF_SIREN_RANK_20'\n",
    "\n",
    "model_dir = './cylinder_UV/result/'+MODEL_NAME+'/saved_model_ckpt_95000'\n",
    "%ls ./cylinder_UV/result"
   ]
  },
  {
   "cell_type": "code",
   "execution_count": 7,
   "metadata": {},
   "outputs": [],
   "source": [
    "import tensorflow.compat.v1 as tf"
   ]
  },
  {
   "cell_type": "code",
   "execution_count": 8,
   "metadata": {},
   "outputs": [
    {
     "name": "stdout",
     "output_type": "stream",
     "text": [
      "WARNING:tensorflow:From <ipython-input-8-962280148c48>:3: load (from tensorflow.python.saved_model.loader_impl) is deprecated and will be removed in a future version.\n",
      "Instructions for updating:\n",
      "This function will only be available through the v1 compatibility library as tf.compat.v1.saved_model.loader.load or tf.compat.v1.saved_model.load. There will be a new function for importing SavedModels in Tensorflow 2.0.\n",
      "INFO:tensorflow:Restoring parameters from ./cylinder_UV/result/NIF_MLP_RANK_30/saved_model_ckpt_95000/variables/variables\n"
     ]
    }
   ],
   "source": [
    "\n",
    "sess = tf.Session(graph=tf.Graph())\n",
    "MODEL_LOADED=tf.saved_model.loader.load(sess, [\"serve\"], model_dir)\n",
    "graph = sess.graph\n",
    "\n",
    "\n",
    "# load input tensors\n",
    "INPUT_T = graph.get_tensor_by_name('input_T:0')\n",
    "INPUT_Y = graph.get_tensor_by_name('input_Y:0')\n",
    "INPUT_X = graph.get_tensor_by_name('input_X:0')\n",
    "\n",
    "# ouput tensor\n",
    "OUTPUT_U = graph.get_tensor_by_name('output_u:0')\n",
    "\n",
    "#     OUTPUT_PARA_NET = graph.get_tensor_by_name('para_net:0')\n",
    "\n",
    "# evaluate on the training data\n",
    "input_arr_t = data_raw[:,0].reshape(-1,1)\n",
    "input_arr_x = data_raw[:,1].reshape(-1,1)\n",
    "input_arr_y = data_raw[:,2].reshape(-1,1)\n",
    "output_arr_u = sess.run(OUTPUT_U, feed_dict={INPUT_T:input_arr_t, INPUT_Y: input_arr_y, INPUT_X:input_arr_x })\n",
    "\n"
   ]
  },
  {
   "cell_type": "code",
   "execution_count": 50,
   "metadata": {
    "scrolled": false
   },
   "outputs": [],
   "source": [
    "levels_u = np.linspace(-2,6.01,30,endpoint=True)\n",
    "levels_v = np.linspace(-5,5.01,30,endpoint=True)\n",
    "levels_u_e = np.linspace(-0.3,0.3,30,endpoint=True)\n",
    "levels_v_e = np.linspace(-0.3,0.3,30,endpoint=True)\n",
    "\n",
    "for i in range(0,len(index_max_list)):\n",
    "    if i == 0:\n",
    "        i_min = 0\n",
    "    else:\n",
    "        i_min = index_max_list[i-1]+1\n",
    "    i_max = index_max_list[i]\n",
    "    fig, axs = plt.subplots(2,3,figsize=(18,6))\n",
    "    # -- U\n",
    "    # pred\n",
    "    im1=axs[0,0].tricontourf(data_raw[i_min:i_max,1]*std[1]+mean[1], \n",
    "                           data_raw[i_min:i_max,2]*std[2]+mean[2], \n",
    "                           output_arr_u[i_min:i_max,0]*std[3]+mean[3],\n",
    "                           cmap='seismic',levels = levels_u)\n",
    "    \n",
    "    # truth            \n",
    "    im0=axs[0,1].tricontourf(data_raw[i_min:i_max,1]*std[1]+mean[1], \n",
    "                           data_raw[i_min:i_max,2]*std[2]+mean[2], \n",
    "                           data_raw[i_min:i_max,3]*std[3]+mean[3],\n",
    "                           cmap='seismic',levels=levels_u)\n",
    "    plt.colorbar(im0, ax=axs[0,1])    \n",
    "    # difference \n",
    "    difference = output_arr_u[i_min:i_max,0]*std[3]+mean[3] - (data_raw[i_min:i_max,3]*std[3]+mean[3])\n",
    "    im2=axs[0,2].tricontourf(data_raw[i_min:i_max,1]*std[1]+mean[1], \n",
    "                           data_raw[i_min:i_max,2]*std[2]+mean[2], \n",
    "                           difference, cmap='seismic', levels = levels_u_e)\n",
    "    plt.colorbar(im2, ax=axs[0,2])\n",
    "    # -- V\n",
    "    # pred\n",
    "    im1=axs[1,0].tricontourf(data_raw[i_min:i_max,1]*std[1]+mean[1], \n",
    "                           data_raw[i_min:i_max,2]*std[2]+mean[2], \n",
    "                           output_arr_u[i_min:i_max,1]*std[4]+mean[4],\n",
    "                           cmap='seismic',levels = levels_v)\n",
    "    \n",
    "    # truth            \n",
    "    im0=axs[1,1].tricontourf(data_raw[i_min:i_max,1]*std[1]+mean[1], \n",
    "                           data_raw[i_min:i_max,2]*std[2]+mean[2], \n",
    "                           data_raw[i_min:i_max,4]*std[4]+mean[4],\n",
    "                           cmap='seismic',levels=levels_v)\n",
    "    plt.colorbar(im0, ax=axs[1,1])    \n",
    "    # difference \n",
    "    difference = output_arr_u[i_min:i_max,1]*std[4]+mean[4] - (data_raw[i_min:i_max,4]*std[4]+mean[4])\n",
    "    im2=axs[1,2].tricontourf(data_raw[i_min:i_max,1]*std[1]+mean[1], \n",
    "                           data_raw[i_min:i_max,2]*std[2]+mean[2], \n",
    "                           difference,cmap='seismic', levels = levels_v_e)\n",
    "    plt.colorbar(im2, ax=axs[1,2])\n",
    "    axs[0,0].axis('scaled')\n",
    "    axs[0,1].axis('scaled')\n",
    "    axs[0,2].axis('scaled')\n",
    "    axs[1,0].axis('scaled')\n",
    "    axs[1,1].axis('scaled')\n",
    "    axs[1,2].axis('scaled')\n",
    "    axs[0,0].set_title('Reconstruction')\n",
    "    axs[0,1].set_title('Truth')\n",
    "    axs[0,2].set_title('Err.')\n",
    "    plt.savefig('./cylinder_UV/result/'+MODEL_NAME+'/pngs/cylinder_'+str(i)+'.png')\n",
    "    plt.close()"
   ]
  },
  {
   "cell_type": "code",
   "execution_count": null,
   "metadata": {},
   "outputs": [],
   "source": []
  },
  {
   "cell_type": "code",
   "execution_count": null,
   "metadata": {},
   "outputs": [],
   "source": []
  },
  {
   "cell_type": "code",
   "execution_count": null,
   "metadata": {},
   "outputs": [],
   "source": []
  }
 ],
 "metadata": {
  "kernelspec": {
   "display_name": "py3",
   "language": "python",
   "name": "py3"
  },
  "language_info": {
   "codemirror_mode": {
    "name": "ipython",
    "version": 3
   },
   "file_extension": ".py",
   "mimetype": "text/x-python",
   "name": "python",
   "nbconvert_exporter": "python",
   "pygments_lexer": "ipython3",
   "version": "3.6.8"
  }
 },
 "nbformat": 4,
 "nbformat_minor": 4
}
