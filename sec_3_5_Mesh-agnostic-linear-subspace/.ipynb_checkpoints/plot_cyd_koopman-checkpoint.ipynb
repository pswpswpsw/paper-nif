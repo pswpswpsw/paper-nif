{
 "cells": [
  {
   "cell_type": "code",
   "execution_count": 1,
   "metadata": {},
   "outputs": [],
   "source": [
    "import tensorflow.compat.v1 as tf\n",
    "import numpy as np\n",
    "from matplotlib import pyplot as plt\n",
    "\n",
    "%matplotlib inline\n",
    "# plt.style.use('siads')"
   ]
  },
  {
   "cell_type": "markdown",
   "metadata": {},
   "source": [
    "## 1. load training data"
   ]
  },
  {
   "cell_type": "code",
   "execution_count": 2,
   "metadata": {},
   "outputs": [],
   "source": [
    "FILENAME = './DATA/cylinder_uv_area_siren_n_eco.npz'\n",
    "# FILENAME = 'cylinder_n.npz'\n",
    "\n",
    "# data has 6 colls:\n",
    "# - Time,\n",
    "# - x,\n",
    "# - y, \n",
    "# - \"x_velocity\",\n",
    "# - \"y_velocity\", \n",
    "# - \"Area\"\n",
    "data=np.load(FILENAME)['data']\n",
    "mean = np.load(FILENAME)['mean']\n",
    "std = np.load(FILENAME)['std']\n",
    "data_raw = data \n",
    "\n",
    "arr=np.diff(data_raw[:,0])>0\n",
    "index_max_list=np.where(arr==1)[0]"
   ]
  },
  {
   "cell_type": "code",
   "execution_count": 3,
   "metadata": {},
   "outputs": [
    {
     "data": {
      "text/plain": [
       "(966514, 6)"
      ]
     },
     "execution_count": 3,
     "metadata": {},
     "output_type": "execute_result"
    }
   ],
   "source": [
    "data.shape"
   ]
  },
  {
   "cell_type": "markdown",
   "metadata": {},
   "source": [
    "## 2. load models"
   ]
  },
  {
   "cell_type": "code",
   "execution_count": 4,
   "metadata": {},
   "outputs": [],
   "source": [
    "RANK = 10"
   ]
  },
  {
   "cell_type": "code",
   "execution_count": 5,
   "metadata": {},
   "outputs": [],
   "source": [
    "MODEL_NAME = 'NIF_SIREN_AREA_RANK_'+str(RANK)+'_NSX_300_LSX_3_NST_100_LST_3_1_VECPOD'\n",
    "model_dir = './'+MODEL_NAME+'/saved_model_ckpt_1200'"
   ]
  },
  {
   "cell_type": "code",
   "execution_count": 6,
   "metadata": {},
   "outputs": [
    {
     "name": "stdout",
     "output_type": "stream",
     "text": [
      "WARNING:tensorflow:From <ipython-input-6-d882056b8cdb>:2: load (from tensorflow.python.saved_model.loader_impl) is deprecated and will be removed in a future version.\n",
      "Instructions for updating:\n",
      "This function will only be available through the v1 compatibility library as tf.compat.v1.saved_model.loader.load or tf.compat.v1.saved_model.load. There will be a new function for importing SavedModels in Tensorflow 2.0.\n",
      "INFO:tensorflow:Restoring parameters from ./NIF_SIREN_AREA_RANK_10_NSX_300_LSX_3_NST_100_LST_3_1_VECPOD/saved_model_ckpt_1200/variables/variables\n"
     ]
    }
   ],
   "source": [
    "sess = tf.Session(graph=tf.Graph())\n",
    "MODEL_LOADED=tf.saved_model.loader.load(sess, [\"serve\"], model_dir)\n",
    "graph = sess.graph\n",
    "\n",
    "# load input tensors\n",
    "INPUT_T = graph.get_tensor_by_name('input_T:0')\n",
    "INPUT_Y = graph.get_tensor_by_name('input_Y:0')\n",
    "INPUT_X = graph.get_tensor_by_name('input_X:0')\n",
    "\n",
    "# ouput tensor\n",
    "# OUTPUT_U = graph.get_tensor_by_name('output_u:0')\n",
    "OUTPUT_PARA_NET = graph.get_tensor_by_name('para_net:0')\n",
    "OUTPUT_PHI_X = graph.get_tensor_by_name('phi_x:0')\n",
    "\n",
    "# evaluate on the training data\n",
    "input_arr_t = data_raw[:,0].reshape(-1,1)\n",
    "input_arr_x = data_raw[:,1].reshape(-1,1)\n",
    "input_arr_y = data_raw[:,2].reshape(-1,1)\n",
    "\n",
    "i_min = 0\n",
    "i_max = index_max_list[0]+1\n",
    "\n",
    "index_jump = (input_arr_t[1:]-input_arr_t[:-1])>0\n",
    "# index_jump[0] = True\n",
    "index_jump=np.append(index_jump,True)\n",
    "\n",
    "single_t_array = input_arr_t[index_jump]\n",
    "\n",
    "# plt.plot(single_t_array)\n",
    "\n",
    "# print(single_t_array.shape)"
   ]
  },
  {
   "cell_type": "markdown",
   "metadata": {},
   "source": [
    "## compute temporal basis (latent variables) "
   ]
  },
  {
   "cell_type": "code",
   "execution_count": 7,
   "metadata": {},
   "outputs": [],
   "source": [
    "# single_t_array = np.linspace(-1,1,100,endpoint=True)\n",
    "single_t_array = np.linspace(-1,1,500,endpoint=True)\n",
    "\n",
    "single_t_array=single_t_array.reshape(-1,1)\n",
    "# print(single_t_array.shape)\n",
    "\n",
    "# obtain latent variables\n",
    "output_arr_pn_single = sess.run(OUTPUT_PARA_NET, {INPUT_T:single_t_array})[:,:,0]"
   ]
  },
  {
   "cell_type": "markdown",
   "metadata": {},
   "source": [
    "## compute spatial basis"
   ]
  },
  {
   "cell_type": "code",
   "execution_count": 8,
   "metadata": {},
   "outputs": [],
   "source": [
    "# change spatial resolution\n",
    "x_ = np.linspace(-1,1,500, endpoint=True)\n",
    "y_ = np.linspace(-1,1,500, endpoint=True)\n",
    "\n",
    "xx_, yy_ = np.meshgrid(x_,y_)\n",
    "xx_ = xx_.reshape(-1,1)\n",
    "yy_ = yy_.reshape(-1,1)\n",
    "\n",
    "xx = xx_ * std[1] + mean[1]\n",
    "yy = yy_ * std[2] + mean[2]\n",
    "\n",
    "# xx = data_raw[i_min:i_max,1]*std[1]+mean[1]\n",
    "# yy = data_raw[i_min:i_max,2]*std[2]+mean[2]\n",
    "\n",
    "px = sess.run(OUTPUT_PHI_X, {INPUT_Y: yy_, INPUT_X:xx_ })"
   ]
  },
  {
   "cell_type": "code",
   "execution_count": 9,
   "metadata": {},
   "outputs": [],
   "source": [
    "dx = xx[1,0]-xx[0,0]\n",
    "dy = yy[501,0]-yy[0,0]\n",
    "da = dx*dy\n",
    "da = da"
   ]
  },
  {
   "cell_type": "code",
   "execution_count": 10,
   "metadata": {},
   "outputs": [
    {
     "name": "stdout",
     "output_type": "stream",
     "text": [
      "i =  0  square root of c_i =  0.0252010649165811\n",
      "i =  1  square root of c_i =  0.024900663811374756\n",
      "i =  2  square root of c_i =  0.028601857349409898\n",
      "i =  3  square root of c_i =  0.026752698069495106\n",
      "i =  4  square root of c_i =  0.02631639561953378\n",
      "i =  5  square root of c_i =  0.023706054471395684\n",
      "i =  6  square root of c_i =  0.028907711123442138\n",
      "i =  7  square root of c_i =  0.02909378762062103\n",
      "i =  8  square root of c_i =  0.02945776940858686\n",
      "i =  9  square root of c_i =  0.026404657754738683\n"
     ]
    }
   ],
   "source": [
    "# compute norm of each component of spatial basis,\n",
    "# note that they are evenly sampled in space... so it is different from the data.\n",
    "# so for `px`, the inner product in space DOES NOT need any area weighting.\n",
    "\n",
    "tmp_list = []\n",
    "for i in range(RANK):\n",
    "    \n",
    "    c_i = da*np.linalg.norm(px[:,i])**2 + da*np.linalg.norm(px[:,i+RANK])**2\n",
    "    sc_i = np.sqrt(c_i)\n",
    "    \n",
    "    print('i = ',i, ' square root of c_i = ', sc_i)\n",
    "    tmp_list.append(sc_i)\n",
    "    # normalized the spatial modes\n",
    "    px[:,i] = px[:,i] / sc_i\n",
    "    px[:,i+RANK] = px[:,i+RANK] / sc_i\n",
    "    \n",
    "scaling_array = np.array(tmp_list)"
   ]
  },
  {
   "cell_type": "code",
   "execution_count": 11,
   "metadata": {},
   "outputs": [],
   "source": [
    "## sanity check, they should be 1 always\n",
    "# for i in range(RANK):\n",
    "#     tmp = da*np.linalg.norm(px[:,i])**2 + da*np.linalg.norm(px[:,i+RANK])**2\n",
    "#     print(tmp)"
   ]
  },
  {
   "cell_type": "code",
   "execution_count": 12,
   "metadata": {},
   "outputs": [],
   "source": [
    "# here for simplicity, we just approximate all dt as 5e-4, \n",
    "# although they do have a difference, due to the data sampling process that I used.\n",
    "dt_list = []\n",
    "dt_array_normalized = single_t_array[1:] - single_t_array[:-1]\n",
    "dt_list = dt_array_normalized * std[0]\n",
    "\n",
    "# dt = 5e-4\n",
    "dt = dt_list[0]\n",
    "L_char = 7e-3\n",
    "U_inf = 3."
   ]
  },
  {
   "cell_type": "code",
   "execution_count": 13,
   "metadata": {},
   "outputs": [],
   "source": [
    "# scale the a(t) by * sqrt(c_i)\n",
    "At = output_arr_pn_single\n",
    "At = np.matmul(At, np.diag(scaling_array))"
   ]
  },
  {
   "cell_type": "markdown",
   "metadata": {},
   "source": [
    "## Drawing latent representation"
   ]
  },
  {
   "cell_type": "code",
   "execution_count": 14,
   "metadata": {},
   "outputs": [],
   "source": [
    "plt.figure(figsize=(30,6))\n",
    "for i in range(RANK):\n",
    "    plt.plot(At[:,i],'-',label=str(i+1),lw=2.5)\n",
    "\n",
    "plt.xlabel('time $t$',fontsize=60)\n",
    "plt.xticks(fontsize=60)\n",
    "plt.yticks(fontsize=60)\n",
    "plt.ylabel(r'latent rep. $\\zeta$',fontsize=60)\n",
    "plt.savefig('./'+MODEL_NAME+'/pngs/all_latent_rep.png',bbox_inches='tight',dpi=200)\n",
    "plt.close()"
   ]
  },
  {
   "cell_type": "markdown",
   "metadata": {},
   "source": [
    "## Compute DMD"
   ]
  },
  {
   "cell_type": "code",
   "execution_count": 15,
   "metadata": {},
   "outputs": [],
   "source": [
    "def compute_dmd(X,dt,L_char,U_inf):\n",
    "    X0 = X[:-1]\n",
    "    X1 = X[1:]\n",
    "    A=np.linalg.lstsq(X0, X1)[0].T\n",
    "    D,P=np.linalg.eig(A)\n",
    "\n",
    "    # a-posteriori evaluation\n",
    "    x_list = [X0[0,:]]\n",
    "    for i in range(X.shape[0]-1):\n",
    "        x_list.append(A @ x_list[i])\n",
    "    Xp = np.array(x_list)\n",
    "\n",
    "    for j in range(X.shape[1]):\n",
    "        plt.figure(figsize=(16,4))\n",
    "        plt.plot(X[:,j],'k-o',label='true')\n",
    "        plt.plot(Xp[:,j],'r--o',label='DMD')\n",
    "        plt.xlabel('time',fontsize=30)\n",
    "        plt.ylabel('x-'+str(j+1),fontsize=30)\n",
    "        plt.legend(loc='upper right')\n",
    "        plt.savefig('./'+MODEL_NAME+'/pngs/compare_latent_rep_'+str(j)+'.png',bbox_inches='tight')\n",
    "        plt.close()\n",
    "    \n",
    "    print('residual = ',np.linalg.lstsq(X0, X1)[1])\n",
    "    \n",
    "    # a-priori temporal and spatial modes\n",
    "    tm = X0 @ np.linalg.inv(P).T @ np.diag(D)\n",
    "    sm = P.T\n",
    "    \n",
    "    \n",
    "    \n",
    "    # compute continuous DMD eigenvalue\n",
    "    growth_rate = np.real(np.log(D))/dt\n",
    "    freq = np.imag(np.log(D))/dt/(2*np.pi)\n",
    "    \n",
    "    # initial amplitute\n",
    "    ampl = X0[0].reshape(1,-1) @ np.linalg.inv(P).T\n",
    "    ampl = np.abs(ampl.ravel())\n",
    "    \n",
    "    st = freq*L_char / U_inf\n",
    "    return ampl, growth_rate, st, tm, sm, D"
   ]
  },
  {
   "cell_type": "code",
   "execution_count": null,
   "metadata": {},
   "outputs": [],
   "source": []
  },
  {
   "cell_type": "code",
   "execution_count": 16,
   "metadata": {
    "scrolled": false
   },
   "outputs": [
    {
     "name": "stderr",
     "output_type": "stream",
     "text": [
      "/home/shaowu/.local/lib/python3.6/site-packages/ipykernel_launcher.py:4: FutureWarning: `rcond` parameter will change to the default of machine precision times ``max(M, N)`` where M and N are the input matrix dimensions.\n",
      "To use the future default and silence this warning we advise to pass `rcond=None`, to keep using the old, explicitly pass `rcond=-1`.\n",
      "  after removing the cwd from sys.path.\n"
     ]
    },
    {
     "name": "stdout",
     "output_type": "stream",
     "text": [
      "residual =  [4.86837618e-05 2.30793200e-05 4.23503431e-04 1.63214289e-05\n",
      " 1.45235347e-04 9.53409889e-04 1.14109630e-05 5.28509184e-04\n",
      " 6.85743486e-05 3.76917454e-04]\n"
     ]
    },
    {
     "name": "stderr",
     "output_type": "stream",
     "text": [
      "/home/shaowu/.local/lib/python3.6/site-packages/ipykernel_launcher.py:23: FutureWarning: `rcond` parameter will change to the default of machine precision times ``max(M, N)`` where M and N are the input matrix dimensions.\n",
      "To use the future default and silence this warning we advise to pass `rcond=None`, to keep using the old, explicitly pass `rcond=-1`.\n"
     ]
    }
   ],
   "source": [
    "ampl, growth_rate, st, tm, sm, D = compute_dmd(At,dt,L_char,U_inf)"
   ]
  },
  {
   "cell_type": "markdown",
   "metadata": {},
   "source": [
    "## Draw DMD spectrum"
   ]
  },
  {
   "cell_type": "code",
   "execution_count": 22,
   "metadata": {},
   "outputs": [
    {
     "data": {
      "image/png": "[encoded data removed]",
      "text/plain": [
       "<Figure size 288x288 with 1 Axes>"
      ]
     },
     "metadata": {
      "needs_background": "light"
     },
     "output_type": "display_data"
    }
   ],
   "source": [
    "theta=np.linspace(0,6.28,100)\n",
    "plt.figure(figsize=(4,4))\n",
    "plt.plot(np.cos(theta),np.sin(theta),'b-')\n",
    "plt.scatter(np.real(D),np.imag(D),s=20,c='r')\n",
    "plt.xlim([-1.5,1.5])\n",
    "plt.ylim([-1.5,1.5])\n",
    "plt.title('DMD discrete spectrum',fontsize=10)\n",
    "plt.savefig('./'+MODEL_NAME+'/pngs/dmd/discrete_spectrum.png',bbox_inches='tight')"
   ]
  },
  {
   "cell_type": "code",
   "execution_count": 23,
   "metadata": {},
   "outputs": [
    {
     "data": {
      "image/png": "[encoded data removed]",
      "text/plain": [
       "<Figure size 288x288 with 1 Axes>"
      ]
     },
     "metadata": {
      "needs_background": "light"
     },
     "output_type": "display_data"
    }
   ],
   "source": [
    "plt.figure(figsize=(4,4))\n",
    "plt.scatter(st, ampl, c='k')\n",
    "# plt.scatter(st, growth_rate, c='r',s=10)\n",
    "plt.xlim([0,1.5])\n",
    "# plt.ylim([0,3e2])\n",
    "plt.title('DMD amplitiute',fontsize=10)\n",
    "plt.xlabel('St')\n",
    "plt.savefig('./'+MODEL_NAME+'/pngs/dmd/spectrum_freq.png',bbox_inches='tight')\n",
    "# plt.close()"
   ]
  },
  {
   "cell_type": "code",
   "execution_count": null,
   "metadata": {},
   "outputs": [],
   "source": []
  },
  {
   "cell_type": "markdown",
   "metadata": {},
   "source": [
    "## visualize DMD modes\n",
    "\n",
    "- note that it takes a lot of memory so I did it in a 'disk-IO' fashion"
   ]
  },
  {
   "cell_type": "code",
   "execution_count": 19,
   "metadata": {},
   "outputs": [],
   "source": [
    "pxT=px.T\n",
    "\n",
    "# save flcunctaion fields\n",
    "for i in range(RANK):\n",
    "    tmp = tm[:,[i]] @ sm[[i], :] \n",
    "    df_u_i = tmp @ pxT[:RANK,:] * std[-3]\n",
    "    df_v_i = tmp @ pxT[RANK:] * std[-2]\n",
    "    \n",
    "    save_npz_path = './'+MODEL_NAME+'/pngs/' + 'decomposed_modes_'+str(i+1) + '.npz'\n",
    "    np.savez(save_npz_path, df_u_i=np.real(df_u_i), df_v_i=np.real(df_v_i))"
   ]
  },
  {
   "cell_type": "code",
   "execution_count": 20,
   "metadata": {},
   "outputs": [],
   "source": [
    "# remove negative st and ampl\n",
    "i_st = np.arange(st.shape[0])\n",
    "st_p = st[st>=0]\n",
    "ampl_p = ampl[st>=0]\n",
    "i_st_p = i_st[st>=0]\n",
    "i_ordered_st_p = np.argsort(ampl_p)[::-1]\n",
    "\n",
    "# order from max to min\n",
    "i_st_p_ordered = i_st_p[i_ordered_st_p]\n",
    "\n",
    "# remove repeated St,\n",
    "i_st_p_ordered = np.delete(i_st_p_ordered, 2)\n",
    "\n",
    "xx=xx.ravel()\n",
    "yy=yy.ravel()"
   ]
  },
  {
   "cell_type": "code",
   "execution_count": 24,
   "metadata": {
    "scrolled": false
   },
   "outputs": [],
   "source": [
    "levels_list_u = [\n",
    "    np.linspace(-6,6,31,endpoint=True),\n",
    "    np.linspace(-2,2,31,endpoint=True),\n",
    "    np.linspace(-0.5,0.5,31,endpoint=True),\n",
    "    np.linspace(-0.7,0.7,31,endpoint=True),\n",
    "    np.linspace(-0.2,0.2,31,endpoint=True),\n",
    "]\n",
    "levels_list_v = [\n",
    "    np.linspace(-4,4,31,endpoint=True),\n",
    "    np.linspace(-4,4,31,endpoint=True),\n",
    "    np.linspace(-1,1,31,endpoint=True),\n",
    "    np.linspace(-0.7,0.7,31,endpoint=True),\n",
    "    np.linspace(-0.3,0.3,31,endpoint=True),\n",
    "]\n",
    "\n",
    "for ip, i in enumerate(i_st_p_ordered):\n",
    "    # read decomposed fields from disk\n",
    "    save_npz_path = './'+MODEL_NAME+'/pngs/' + 'decomposed_modes_'+str(i+1) + '.npz'\n",
    "    df_u = np.load(save_npz_path)['df_u_i']\n",
    "    df_v = np.load(save_npz_path)['df_v_i']\n",
    "    for j in range(2):\n",
    "        st_str = f'{st[i]:0.2f}'                        \n",
    "        fig,axs=plt.subplots(1,2,figsize=(10,3))\n",
    "        # plt.title('St = '+ st_str + ' (i = '+str(i)+' )')\n",
    "        im0 = axs[0].tricontourf(xx, yy, df_u[j].ravel(), cmap='seismic', levels=levels_list_u[ip])\n",
    "        im1 = axs[1].tricontourf(xx, yy, df_v[j].ravel(), cmap='seismic', levels=levels_list_v[ip])\n",
    "\n",
    "        ## draw the circle object\n",
    "        r=3.5e-3\n",
    "        c1=plt.Circle((0,0),r,color='tab:gray',fill=True)\n",
    "        c2=plt.Circle((0,0),r,color='tab:gray',fill=True)\n",
    "        axs[0].add_patch(c1)\n",
    "        axs[1].add_patch(c2)\n",
    "        \n",
    "        axs[0].set_yticklabels([])\n",
    "        axs[0].set_xticklabels([])\n",
    "        axs[1].set_yticklabels([])\n",
    "        axs[1].set_xticklabels([])\n",
    "        # plt.axis('scaled')\n",
    "        plt.colorbar(im0,ax=axs[0],format='%0.2f')\n",
    "        plt.colorbar(im1,ax=axs[1],format='%0.2f')        \n",
    "        \n",
    "        plt.savefig('./'+MODEL_NAME+'/pngs/dmd/st_'+st_str+'_time_'+str(j)+'.png',bbox_inches='tight')\n",
    "        plt.close()"
   ]
  },
  {
   "cell_type": "code",
   "execution_count": null,
   "metadata": {},
   "outputs": [],
   "source": []
  }
 ],
 "metadata": {
  "kernelspec": {
   "display_name": "py3",
   "language": "python",
   "name": "py3"
  },
  "language_info": {
   "codemirror_mode": {
    "name": "ipython",
    "version": 3
   },
   "file_extension": ".py",
   "mimetype": "text/x-python",
   "name": "python",
   "nbconvert_exporter": "python",
   "pygments_lexer": "ipython3",
   "version": "3.6.8"
  }
 },
 "nbformat": 4,
 "nbformat_minor": 4
}
